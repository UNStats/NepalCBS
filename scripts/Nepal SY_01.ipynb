{
 "cells": [
  {
   "cell_type": "markdown",
   "metadata": {},
   "source": [
    "# Prepare Statistical Yearbook data"
   ]
  },
  {
   "cell_type": "markdown",
   "metadata": {},
   "source": [
    "## Load necessary python libraries and define working directory\n",
    "\n",
    "This script will heavily rely on the data transformation and data management methods available from the `pandas` python library."
   ]
  },
  {
   "cell_type": "code",
   "execution_count": 3,
   "metadata": {},
   "outputs": [
    {
     "name": "stdout",
     "output_type": "stream",
     "text": [
      "C:\\Users\\L.GonzalezMorales\\Documents\\GitHub\\NepalCBS\\scripts\n",
      "data inputs dir: ../data/\n",
      "outputs dir: ../output/\n"
     ]
    }
   ],
   "source": [
    "import json\n",
    "import urllib3  # allows to access a URL with python\n",
    "import pandas as pd\n",
    "import math\n",
    "import os \n",
    "import hashlib\n",
    "\n",
    "dir_path = os.path.dirname(os.path.realpath('__file__'))\n",
    "print(dir_path)\n",
    "\n",
    "data_dir = r'../data/'\n",
    "print('data inputs dir: ' + data_dir)\n",
    "\n",
    "output_dir = r'../output/'\n",
    "print('outputs dir: ' + output_dir)\n",
    "\n",
    "\n",
    "# https://volderette.de/jupyter-notebook-tip-multiple-outputs/\n",
    "from IPython.core.interactiveshell import InteractiveShell\n",
    "InteractiveShell.ast_node_interactivity = \"all\""
   ]
  },
  {
   "cell_type": "markdown",
   "metadata": {},
   "source": [
    "## Utilities"
   ]
  },
  {
   "cell_type": "markdown",
   "metadata": {},
   "source": [
    "#### Compute a hash of a dictionary"
   ]
  },
  {
   "cell_type": "code",
   "execution_count": 4,
   "metadata": {},
   "outputs": [],
   "source": [
    "def dict_hash(d):\n",
    "    out = hashlib.md5()\n",
    "    for key, value in d.items():\n",
    "        out.update(key.encode('utf-8'))\n",
    "        out.update(str(value).encode('utf-8'))\n",
    "    return out.hexdigest()\n"
   ]
  },
  {
   "cell_type": "markdown",
   "metadata": {},
   "source": [
    "#### Get unique dictionaries in a list"
   ]
  },
  {
   "cell_type": "code",
   "execution_count": 5,
   "metadata": {},
   "outputs": [],
   "source": [
    "def unique_dicts(dictionary_list):\n",
    "\n",
    "    uniques_map = {}\n",
    "\n",
    "    for d in dictionary_list:\n",
    "        uniques_map[dict_hash(d)] = d\n",
    "\n",
    "    return list(uniques_map.values())\n"
   ]
  },
  {
   "cell_type": "markdown",
   "metadata": {},
   "source": [
    "#### Extract subset of key-value pairs from Python dictionary object"
   ]
  },
  {
   "cell_type": "code",
   "execution_count": 6,
   "metadata": {},
   "outputs": [],
   "source": [
    "def subdict_list(dict_list, keys_list, exclude = False):\n",
    "    sub_d_list = []\n",
    "    if exclude:\n",
    "        for d in dict_list:\n",
    "            sub_d= {k: d[k] for k in d.keys() if k not in keys_list}\n",
    "            sub_d_list.append(sub_d)\n",
    "    else:\n",
    "        for d in dict_list:\n",
    "            sub_d= {k: d[k] for k in keys_list}\n",
    "            sub_d_list.append(sub_d)\n",
    "    \n",
    "    return sub_d_list\n",
    "\n",
    "\n"
   ]
  },
  {
   "cell_type": "markdown",
   "metadata": {},
   "source": [
    "#### Get a dict from a list based on something inside the dict"
   ]
  },
  {
   "cell_type": "code",
   "execution_count": 7,
   "metadata": {},
   "outputs": [],
   "source": [
    "def select_dict(dict_list, k, v):\n",
    "    selected = []\n",
    "    for d in dict_list:\n",
    "        if d[k] == v:\n",
    "            selected.append(d)\n",
    "    return selected"
   ]
  },
  {
   "cell_type": "markdown",
   "metadata": {},
   "source": [
    "## Read code lists"
   ]
  },
  {
   "cell_type": "code",
   "execution_count": 32,
   "metadata": {},
   "outputs": [
    {
     "data": {
      "text/plain": [
       "dict_keys(['CL_INDICATOR', 'CL_REF_AREA', 'CL_SEX', 'CL_URBANIZATION', 'CL_AGE', 'CL_UNIT_MEASURE', 'CL_RELIGION', 'CL_MOTHER_TONGUE', 'CL_CASTE_ETHNICGROUP', 'CL_LITERACY', 'CL_DISABILITY_STATUS', 'CL_ECON_ACTIVITY_STATUS', 'CL_ACTIVITY', 'CL_OCCUPATION'])"
      ]
     },
     "metadata": {},
     "output_type": "display_data"
    },
    {
     "data": {
      "text/html": [
       "<div>\n",
       "<style scoped>\n",
       "    .dataframe tbody tr th:only-of-type {\n",
       "        vertical-align: middle;\n",
       "    }\n",
       "\n",
       "    .dataframe tbody tr th {\n",
       "        vertical-align: top;\n",
       "    }\n",
       "\n",
       "    .dataframe thead th {\n",
       "        text-align: right;\n",
       "    }\n",
       "</style>\n",
       "<table border=\"1\" class=\"dataframe\">\n",
       "  <thead>\n",
       "    <tr style=\"text-align: right;\">\n",
       "      <th></th>\n",
       "      <th>Code</th>\n",
       "      <th>Description</th>\n",
       "    </tr>\n",
       "  </thead>\n",
       "  <tbody>\n",
       "    <tr>\n",
       "      <th>0</th>\n",
       "      <td>YB_NO_HH</td>\n",
       "      <td>Number of households</td>\n",
       "    </tr>\n",
       "    <tr>\n",
       "      <th>1</th>\n",
       "      <td>YB_AVG_HH_SZ</td>\n",
       "      <td>Average household size</td>\n",
       "    </tr>\n",
       "    <tr>\n",
       "      <th>2</th>\n",
       "      <td>YB_POP</td>\n",
       "      <td>Population</td>\n",
       "    </tr>\n",
       "    <tr>\n",
       "      <th>3</th>\n",
       "      <td>YB_POP_DENS</td>\n",
       "      <td>Population density</td>\n",
       "    </tr>\n",
       "    <tr>\n",
       "      <th>4</th>\n",
       "      <td>YB_AREA</td>\n",
       "      <td>Area</td>\n",
       "    </tr>\n",
       "    <tr>\n",
       "      <th>5</th>\n",
       "      <td>YB_NO_WARDS</td>\n",
       "      <td>Number of wards</td>\n",
       "    </tr>\n",
       "  </tbody>\n",
       "</table>\n",
       "</div>"
      ],
      "text/plain": [
       "           Code             Description\n",
       "0      YB_NO_HH    Number of households\n",
       "1  YB_AVG_HH_SZ  Average household size\n",
       "2        YB_POP              Population\n",
       "3   YB_POP_DENS      Population density\n",
       "4       YB_AREA                    Area\n",
       "5   YB_NO_WARDS         Number of wards"
      ]
     },
     "execution_count": 32,
     "metadata": {},
     "output_type": "execute_result"
    }
   ],
   "source": [
    "xls = pd.ExcelFile(data_dir + 'Yearbook - Code Lists.xlsx')\n",
    "\n",
    "code_lists = dict(pd.read_excel(xls, None))\n",
    "\n",
    "code_lists_catalogue = code_lists.keys()\n",
    "display(code_lists_catalogue)\n",
    "\n",
    "code_lists['CL_INDICATOR']"
   ]
  },
  {
   "cell_type": "markdown",
   "metadata": {},
   "source": [
    "## Read data"
   ]
  },
  {
   "cell_type": "code",
   "execution_count": 55,
   "metadata": {},
   "outputs": [
    {
     "data": {
      "text/plain": [
       "['1.1',\n",
       " '1.2',\n",
       " '1.3',\n",
       " '1.4',\n",
       " '1.5',\n",
       " '1.6',\n",
       " '1.7',\n",
       " '1.8',\n",
       " '1.9',\n",
       " '1.10',\n",
       " '1.11',\n",
       " '1.12',\n",
       " '1.13',\n",
       " '1.14',\n",
       " '1.15',\n",
       " '1.16',\n",
       " 'List of concepts']"
      ]
     },
     "metadata": {},
     "output_type": "display_data"
    }
   ],
   "source": [
    "xls = pd.ExcelFile(data_dir + 'Yearbook - Ch01.xlsx')\n",
    "\n",
    "chapter01 = dict(pd.read_excel(xls, None))\n",
    "\n",
    "chapter01_tables = list(chapter01.keys())\n",
    "display(chapter01_tables)"
   ]
  },
  {
   "cell_type": "code",
   "execution_count": 50,
   "metadata": {},
   "outputs": [
    {
     "data": {
      "text/html": [
       "<div>\n",
       "<style scoped>\n",
       "    .dataframe tbody tr th:only-of-type {\n",
       "        vertical-align: middle;\n",
       "    }\n",
       "\n",
       "    .dataframe tbody tr th {\n",
       "        vertical-align: top;\n",
       "    }\n",
       "\n",
       "    .dataframe thead th {\n",
       "        text-align: right;\n",
       "    }\n",
       "</style>\n",
       "<table border=\"1\" class=\"dataframe\">\n",
       "  <thead>\n",
       "    <tr style=\"text-align: right;\">\n",
       "      <th></th>\n",
       "      <th>INDICATOR</th>\n",
       "      <th>INDICATOR_DESC</th>\n",
       "      <th>REF_AREA</th>\n",
       "      <th>REF_AREA_DESC</th>\n",
       "      <th>TIME_PERIOD</th>\n",
       "      <th>SEX</th>\n",
       "      <th>SEX_DESC</th>\n",
       "      <th>URBANIZATION</th>\n",
       "      <th>URBANIZATION_DESC</th>\n",
       "      <th>AGE</th>\n",
       "      <th>...</th>\n",
       "      <th>OCCUPATION_DESC</th>\n",
       "      <th>ACTIVITY</th>\n",
       "      <th>ACTIVITY_DESC</th>\n",
       "      <th>OBS_VALUE</th>\n",
       "      <th>Ref_Area_Type</th>\n",
       "      <th>UNIT_MEASURE</th>\n",
       "      <th>UNIT_MEASURE_DESC</th>\n",
       "      <th>UNIT_MULT</th>\n",
       "      <th>FOOTNOTE</th>\n",
       "      <th>SOURCE</th>\n",
       "    </tr>\n",
       "  </thead>\n",
       "  <tbody>\n",
       "    <tr>\n",
       "      <th>0</th>\n",
       "      <td>YB_NO_HH</td>\n",
       "      <td>Number of households</td>\n",
       "      <td>NP</td>\n",
       "      <td>Nepal</td>\n",
       "      <td>2011</td>\n",
       "      <td>_T</td>\n",
       "      <td>Total or not applicable</td>\n",
       "      <td>_T</td>\n",
       "      <td>Total</td>\n",
       "      <td>_T</td>\n",
       "      <td>...</td>\n",
       "      <td>Total or no breakdown by Occupation</td>\n",
       "      <td>_T</td>\n",
       "      <td>No breakdown</td>\n",
       "      <td>5427302.0</td>\n",
       "      <td>NaN</td>\n",
       "      <td>NUMBER</td>\n",
       "      <td>Number</td>\n",
       "      <td>0</td>\n",
       "      <td>Includes institutional households</td>\n",
       "      <td>Central Bureau of Statitics</td>\n",
       "    </tr>\n",
       "    <tr>\n",
       "      <th>1</th>\n",
       "      <td>YB_NO_HH</td>\n",
       "      <td>Number of households</td>\n",
       "      <td>NP</td>\n",
       "      <td>Nepal</td>\n",
       "      <td>2011</td>\n",
       "      <td>_T</td>\n",
       "      <td>Total or not applicable</td>\n",
       "      <td>U</td>\n",
       "      <td>Urban</td>\n",
       "      <td>_T</td>\n",
       "      <td>...</td>\n",
       "      <td>Total or no breakdown by Occupation</td>\n",
       "      <td>_T</td>\n",
       "      <td>No breakdown</td>\n",
       "      <td>1047297.0</td>\n",
       "      <td>NaN</td>\n",
       "      <td>NUMBER</td>\n",
       "      <td>Number</td>\n",
       "      <td>0</td>\n",
       "      <td>Includes institutional households</td>\n",
       "      <td>Central Bureau of Statitics</td>\n",
       "    </tr>\n",
       "    <tr>\n",
       "      <th>2</th>\n",
       "      <td>YB_NO_HH</td>\n",
       "      <td>Number of households</td>\n",
       "      <td>NP</td>\n",
       "      <td>Nepal</td>\n",
       "      <td>2011</td>\n",
       "      <td>_T</td>\n",
       "      <td>Total or not applicable</td>\n",
       "      <td>R</td>\n",
       "      <td>Rural</td>\n",
       "      <td>_T</td>\n",
       "      <td>...</td>\n",
       "      <td>Total or no breakdown by Occupation</td>\n",
       "      <td>_T</td>\n",
       "      <td>No breakdown</td>\n",
       "      <td>4380005.0</td>\n",
       "      <td>NaN</td>\n",
       "      <td>NUMBER</td>\n",
       "      <td>Number</td>\n",
       "      <td>0</td>\n",
       "      <td>Includes institutional households</td>\n",
       "      <td>Central Bureau of Statitics</td>\n",
       "    </tr>\n",
       "    <tr>\n",
       "      <th>3</th>\n",
       "      <td>YB_NO_HH</td>\n",
       "      <td>Number of households</td>\n",
       "      <td>NP_MTN</td>\n",
       "      <td>Mountain</td>\n",
       "      <td>2011</td>\n",
       "      <td>_T</td>\n",
       "      <td>Total or not applicable</td>\n",
       "      <td>_T</td>\n",
       "      <td>Total</td>\n",
       "      <td>_T</td>\n",
       "      <td>...</td>\n",
       "      <td>Total or no breakdown by Occupation</td>\n",
       "      <td>_T</td>\n",
       "      <td>No breakdown</td>\n",
       "      <td>364120.0</td>\n",
       "      <td>Ecological Belt</td>\n",
       "      <td>NUMBER</td>\n",
       "      <td>Number</td>\n",
       "      <td>0</td>\n",
       "      <td>Includes institutional households</td>\n",
       "      <td>Central Bureau of Statitics</td>\n",
       "    </tr>\n",
       "    <tr>\n",
       "      <th>4</th>\n",
       "      <td>YB_NO_HH</td>\n",
       "      <td>Number of households</td>\n",
       "      <td>NP_HIL</td>\n",
       "      <td>Hill</td>\n",
       "      <td>2011</td>\n",
       "      <td>_T</td>\n",
       "      <td>Total or not applicable</td>\n",
       "      <td>_T</td>\n",
       "      <td>Total</td>\n",
       "      <td>_T</td>\n",
       "      <td>...</td>\n",
       "      <td>Total or no breakdown by Occupation</td>\n",
       "      <td>_T</td>\n",
       "      <td>No breakdown</td>\n",
       "      <td>2534430.0</td>\n",
       "      <td>Ecological Belt</td>\n",
       "      <td>NUMBER</td>\n",
       "      <td>Number</td>\n",
       "      <td>0</td>\n",
       "      <td>Includes institutional households</td>\n",
       "      <td>Central Bureau of Statitics</td>\n",
       "    </tr>\n",
       "    <tr>\n",
       "      <th>5</th>\n",
       "      <td>YB_NO_HH</td>\n",
       "      <td>Number of households</td>\n",
       "      <td>NP_TER</td>\n",
       "      <td>Terai</td>\n",
       "      <td>2011</td>\n",
       "      <td>_T</td>\n",
       "      <td>Total or not applicable</td>\n",
       "      <td>_T</td>\n",
       "      <td>Total</td>\n",
       "      <td>_T</td>\n",
       "      <td>...</td>\n",
       "      <td>Total or no breakdown by Occupation</td>\n",
       "      <td>_T</td>\n",
       "      <td>No breakdown</td>\n",
       "      <td>2528752.0</td>\n",
       "      <td>Ecological Belt</td>\n",
       "      <td>NUMBER</td>\n",
       "      <td>Number</td>\n",
       "      <td>0</td>\n",
       "      <td>Includes institutional households</td>\n",
       "      <td>Central Bureau of Statitics</td>\n",
       "    </tr>\n",
       "  </tbody>\n",
       "</table>\n",
       "<p>6 rows × 34 columns</p>\n",
       "</div>"
      ],
      "text/plain": [
       "  INDICATOR        INDICATOR_DESC REF_AREA REF_AREA_DESC  TIME_PERIOD SEX  \\\n",
       "0  YB_NO_HH  Number of households       NP         Nepal         2011  _T   \n",
       "1  YB_NO_HH  Number of households       NP         Nepal         2011  _T   \n",
       "2  YB_NO_HH  Number of households       NP         Nepal         2011  _T   \n",
       "3  YB_NO_HH  Number of households   NP_MTN      Mountain         2011  _T   \n",
       "4  YB_NO_HH  Number of households   NP_HIL          Hill         2011  _T   \n",
       "5  YB_NO_HH  Number of households   NP_TER         Terai         2011  _T   \n",
       "\n",
       "                  SEX_DESC URBANIZATION URBANIZATION_DESC AGE  ...  \\\n",
       "0  Total or not applicable           _T             Total  _T  ...   \n",
       "1  Total or not applicable            U             Urban  _T  ...   \n",
       "2  Total or not applicable            R             Rural  _T  ...   \n",
       "3  Total or not applicable           _T             Total  _T  ...   \n",
       "4  Total or not applicable           _T             Total  _T  ...   \n",
       "5  Total or not applicable           _T             Total  _T  ...   \n",
       "\n",
       "                       OCCUPATION_DESC ACTIVITY ACTIVITY_DESC  OBS_VALUE  \\\n",
       "0  Total or no breakdown by Occupation       _T  No breakdown  5427302.0   \n",
       "1  Total or no breakdown by Occupation       _T  No breakdown  1047297.0   \n",
       "2  Total or no breakdown by Occupation       _T  No breakdown  4380005.0   \n",
       "3  Total or no breakdown by Occupation       _T  No breakdown   364120.0   \n",
       "4  Total or no breakdown by Occupation       _T  No breakdown  2534430.0   \n",
       "5  Total or no breakdown by Occupation       _T  No breakdown  2528752.0   \n",
       "\n",
       "     Ref_Area_Type UNIT_MEASURE UNIT_MEASURE_DESC UNIT_MULT  \\\n",
       "0              NaN       NUMBER            Number         0   \n",
       "1              NaN       NUMBER            Number         0   \n",
       "2              NaN       NUMBER            Number         0   \n",
       "3  Ecological Belt       NUMBER            Number         0   \n",
       "4  Ecological Belt       NUMBER            Number         0   \n",
       "5  Ecological Belt       NUMBER            Number         0   \n",
       "\n",
       "                              FOOTNOTE                       SOURCE  \n",
       "0  Includes institutional households    Central Bureau of Statitics  \n",
       "1  Includes institutional households    Central Bureau of Statitics  \n",
       "2  Includes institutional households    Central Bureau of Statitics  \n",
       "3  Includes institutional households    Central Bureau of Statitics  \n",
       "4  Includes institutional households    Central Bureau of Statitics  \n",
       "5  Includes institutional households    Central Bureau of Statitics  \n",
       "\n",
       "[6 rows x 34 columns]"
      ]
     },
     "execution_count": 50,
     "metadata": {},
     "output_type": "execute_result"
    }
   ],
   "source": [
    "chapter01['1.1'].head(6)"
   ]
  },
  {
   "cell_type": "markdown",
   "metadata": {},
   "source": [
    "# Read coordinates"
   ]
  },
  {
   "cell_type": "code",
   "execution_count": 136,
   "metadata": {},
   "outputs": [
    {
     "data": {
      "text/plain": [
       "{'Parent': 'NP_DEV_EAST',\n",
       " 'Code': '101',\n",
       " 'Description': 'Taplejung',\n",
       " 'Ref_Area_Type': 'District',\n",
       " 'ISO': None,\n",
       " 'X': 87.821800915844,\n",
       " 'Y': 27.582127224225,\n",
       " 'ObjectId': 1}"
      ]
     },
     "metadata": {},
     "output_type": "display_data"
    },
    {
     "data": {
      "text/plain": [
       "{'Parent': 'NP',\n",
       " 'Code': 'NP_DEV_EAST',\n",
       " 'Description': 'Eastern Dev. Region',\n",
       " 'Description_2': 'Purwanchal',\n",
       " 'Ref_Area_Type': 'Development Region',\n",
       " 'ISO': 'NP-4',\n",
       " 'ObjectId': 1,\n",
       " 'X': 87.14802,\n",
       " 'Y': 27.2399800000001}"
      ]
     },
     "metadata": {},
     "output_type": "display_data"
    }
   ],
   "source": [
    "with open(data_dir + 'ref_areas/nepal_districts.geojson') as json_file:\n",
    "    data = json.load(json_file)\n",
    "    \n",
    "districts = []\n",
    "for f in data['features']:\n",
    "    f['properties']['X'] = f['geometry']['coordinates'][0]\n",
    "    f['properties']['Y'] = f['geometry']['coordinates'][1]\n",
    "    districts.append(f['properties'])\n",
    "\n",
    "display(districts[0])\n",
    "\n",
    "df_districts = pd.DataFrame(districts)\n",
    "df_districts = df_districts.rename(columns = {\"Code\": \"REF_AREA\",\n",
    "                                              \"Description\":\"REF_AREA_DESC\"}) \n",
    "df_districts = df_districts.drop(['ObjectId'], axis=1)\n",
    "df_districts.to_excel(data_dir + 'ref_areas/nepal_districts_xy.xlsx')\n",
    "#display(df_districts)\n",
    "\n",
    "with open(data_dir + 'ref_areas/nepal_development_regions.geojson') as json_file:\n",
    "    data = json.load(json_file)\n",
    "    \n",
    "dev_regions = []\n",
    "for f in data['features']:\n",
    "    f['properties']['X'] = f['geometry']['coordinates'][0]\n",
    "    f['properties']['Y'] = f['geometry']['coordinates'][1]\n",
    "    dev_regions.append(f['properties'])\n",
    "\n",
    "display(dev_regions[0])\n",
    "\n",
    "df_devRegions = pd.DataFrame(dev_regions)\n",
    "df_devRegions = df_devRegions.rename(columns = {\"Code\": \"REF_AREA\",\n",
    "                                              \"Description\":\"REF_AREA_DESC\"}) \n",
    "df_devRegions = df_devRegions.drop(['ObjectId'], axis=1)\n",
    "df_devRegions.to_excel(data_dir + 'ref_areas/nepal_devRegions_xy.xlsx')\n",
    "#display(df_devRegions)\n"
   ]
  },
  {
   "cell_type": "code",
   "execution_count": 69,
   "metadata": {},
   "outputs": [
    {
     "data": {
      "text/plain": [
       "'101'"
      ]
     },
     "execution_count": 69,
     "metadata": {},
     "output_type": "execute_result"
    }
   ],
   "source": [
    "district_codes = []\n",
    "for d in districts:\n",
    "    district_codes.append(d['Code'])\n",
    "district_codes[0]"
   ]
  },
  {
   "cell_type": "markdown",
   "metadata": {},
   "source": [
    "## Select district-level data and add coordinates"
   ]
  },
  {
   "cell_type": "code",
   "execution_count": 125,
   "metadata": {},
   "outputs": [],
   "source": [
    "\n",
    "\n",
    "x = chapter01[chapter01_tables[0]]\n",
    "\n",
    "\n",
    "  \n",
    "x = x.astype(convert_dict) \n",
    "#print(x.dtypes) \n",
    "\n",
    "#list(x['REF_AREA'])"
   ]
  },
  {
   "cell_type": "code",
   "execution_count": 139,
   "metadata": {},
   "outputs": [],
   "source": [
    "\n",
    "convert_dict = {'REF_AREA': str } \n",
    "\n",
    "for i in chapter01_tables:\n",
    "    if i != 'List of concepts':\n",
    "\n",
    "        x_district = chapter01[i].drop(['Ref_Area_Type'], axis=1)\n",
    "        x_district = x_district.astype(convert_dict) \n",
    "        \n",
    "        df_districts = df_districts.astype(convert_dict) \n",
    "        result = pd.merge(x_district, df_districts, on=['REF_AREA', 'REF_AREA_DESC'])\n",
    "        \n",
    "        if not result.empty:\n",
    "            #result.to_excel(output_dir + 'Ch' + i.replace('.','_') + '_District' + '.xlsx')\n",
    "            #display(result.head(5))\n",
    "\n",
    "            \n",
    "            writer = pd.ExcelWriter(output_dir + 'Ch' + i.replace('.','_') + '_District' + '.xlsx', engine='xlsxwriter')\n",
    "            result.to_excel(writer, index=False)\n",
    "            writer.save() \n",
    "            \n"
   ]
  },
  {
   "cell_type": "code",
   "execution_count": null,
   "metadata": {},
   "outputs": [],
   "source": []
  }
 ],
 "metadata": {
  "kernelspec": {
   "display_name": "Python 3",
   "language": "python",
   "name": "python3"
  },
  "language_info": {
   "codemirror_mode": {
    "name": "ipython",
    "version": 3
   },
   "file_extension": ".py",
   "mimetype": "text/x-python",
   "name": "python",
   "nbconvert_exporter": "python",
   "pygments_lexer": "ipython3",
   "version": "3.6.8"
  }
 },
 "nbformat": 4,
 "nbformat_minor": 2
}
